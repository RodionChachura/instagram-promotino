{
 "cells": [
  {
   "cell_type": "code",
   "execution_count": 1,
   "metadata": {},
   "outputs": [
    {
     "name": "stdout",
     "output_type": "stream",
     "text": [
      "Reached: 1532\n",
      "Responded: 10%\n"
     ]
    }
   ],
   "source": [
    "import json\n",
    "\n",
    "with open('config.json') as f:\n",
    "    config = json.load(f)\n",
    "    search_tags = config['tags']\n",
    "    \n",
    "with open('state.json') as f:\n",
    "    state = json.load(f)\n",
    "\n",
    "reached = state['reached']\n",
    "answered = state['answered']\n",
    "\n",
    "print('Reached: {0}'.format(len(reached)))\n",
    "print('Responded: {0}%'.format(round((len(answered) * 100) / len(reached))))"
   ]
  },
  {
   "cell_type": "code",
   "execution_count": 2,
   "metadata": {},
   "outputs": [],
   "source": [
    "tags = {}\n",
    "for r in reached:\n",
    "    username = r['username']\n",
    "    user_tags = [tag[1:] for tag in r['tags']]\n",
    "    for ut in user_tags:\n",
    "        if ut not in tags:\n",
    "            tags[ut] = {\n",
    "                'reached': 0,\n",
    "                'in_search': ut in search_tags,\n",
    "                'answered': 0\n",
    "            }\n",
    "        tag = tags[ut]\n",
    "        tag['reached'] += 1\n",
    "        if username in answered:\n",
    "            tag['answered'] += 1\n",
    "\n",
    "tags_list = []\n",
    "for key, value in tags.items():\n",
    "    tag = dict(value)\n",
    "    tag['name'] = key\n",
    "    tag['conversion'] = tag['answered'] / tag['reached']\n",
    "    tags_list.append(tag)"
   ]
  },
  {
   "cell_type": "code",
   "execution_count": 3,
   "metadata": {},
   "outputs": [],
   "source": [
    "import pandas as pd\n",
    "\n",
    "dataframe = pd.DataFrame(tags_list)"
   ]
  },
  {
   "cell_type": "code",
   "execution_count": 4,
   "metadata": {},
   "outputs": [
    {
     "data": {
      "application/vnd.jupyter.widget-view+json": {
       "model_id": "a1f137eb36d5411d837244afa6e8f89c",
       "version_major": 2,
       "version_minor": 0
      },
      "text/plain": [
       "QgridWidget(grid_options={'fullWidthRows': True, 'syncColumnCellResize': True, 'forceFitColumns': True, 'defau…"
      ]
     },
     "metadata": {},
     "output_type": "display_data"
    }
   ],
   "source": [
    "import qgrid\n",
    "\n",
    "qgrid_widget = qgrid.show_grid(dataframe, show_toolbar=True)\n",
    "qgrid_widget"
   ]
  },
  {
   "cell_type": "code",
   "execution_count": null,
   "metadata": {},
   "outputs": [],
   "source": []
  }
 ],
 "metadata": {
  "kernelspec": {
   "display_name": "Python 3",
   "language": "python",
   "name": "python3"
  },
  "language_info": {
   "codemirror_mode": {
    "name": "ipython",
    "version": 3
   },
   "file_extension": ".py",
   "mimetype": "text/x-python",
   "name": "python",
   "nbconvert_exporter": "python",
   "pygments_lexer": "ipython3",
   "version": "3.6.5"
  }
 },
 "nbformat": 4,
 "nbformat_minor": 2
}
